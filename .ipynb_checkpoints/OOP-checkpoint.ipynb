{
 "cells": [
  {
   "cell_type": "code",
   "execution_count": null,
   "metadata": {},
   "outputs": [],
   "source": [
    "# To Do:\n",
    "# Create a pip package for data cleaning / text preprocessing steps\n",
    "# It should contain one or more modules, which we can call to clean data\n",
    "\n",
    "# Advantages of classes is, that they are used as instances. That they are used multiple times and a few things differ. \n",
    "# Hence we have a class of cleaning a string, which can be modified accordingly.\n",
    "\n",
    "# Then we have a class of cleaning a text, which can contain the cleaning a string."
   ]
  },
  {
   "cell_type": "code",
   "execution_count": null,
   "metadata": {},
   "outputs": [],
   "source": []
  },
  {
   "cell_type": "code",
   "execution_count": null,
   "metadata": {},
   "outputs": [],
   "source": [
    "# When to use this package?\n",
    "\n",
    "# Text preprocessing in the mapper\n",
    "# Text preprocessing for the models\n",
    "\n",
    "# Vhv \n",
    "# dealing with text data"
   ]
  },
  {
   "cell_type": "code",
   "execution_count": null,
   "metadata": {},
   "outputs": [],
   "source": [
    "# Other option for a module / package would be NLP Models\n",
    "# create a class for types of models, so that we can tryout different types of models faster and have the whole source code for a model\n",
    "# in one class"
   ]
  }
 ],
 "metadata": {
  "kernelspec": {
   "display_name": "Python 3",
   "language": "python",
   "name": "python3"
  },
  "language_info": {
   "codemirror_mode": {
    "name": "ipython",
    "version": 3
   },
   "file_extension": ".py",
   "mimetype": "text/x-python",
   "name": "python",
   "nbconvert_exporter": "python",
   "pygments_lexer": "ipython3",
   "version": "3.7.3"
  }
 },
 "nbformat": 4,
 "nbformat_minor": 2
}
